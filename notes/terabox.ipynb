{
 "cells": [
  {
   "cell_type": "code",
   "execution_count": 1,
   "metadata": {},
   "outputs": [],
   "source": [
    "import requests\n",
    "import time\n",
    "from pprint import pprint\n",
    "\n",
    "def get_download(short_url: str, pwd: str, shareid: str, uk: str, sign: str, timestamp: str, fs_id: str) -> str:\n",
    "    url = 'https://terabox-dl.qtcloud.workers.dev/api/get-download'\n",
    "\n",
    "    body = {\n",
    "        'shareid': shareid,\n",
    "        'uk': uk,\n",
    "        'sign': sign,\n",
    "        'timestamp': timestamp,\n",
    "        'fs_id': fs_id,\n",
    "    }\n",
    "\n",
    "    headers = {\n",
    "        'User-Agent': 'Mozilla/5.0 (Macintosh; Intel Mac OS X 10_15_7) AppleWebKit/537.36 (KHTML, like Gecko) Chrome/117.0.0.0 Safari/537.36',\n",
    "    }\n",
    "\n",
    "    try:\n",
    "        response = requests.post(url, json=body, headers=headers)\n",
    "        response.raise_for_status()\n",
    "\n",
    "        data = response.json()\n",
    "        print(data)\n",
    "        return data\n",
    "\n",
    "    except requests.exceptions.RequestException as e:\n",
    "        print(f'Error making API request: {e}')\n",
    "        return None\n",
    "\n",
    "def get_download(short_url: str, pwd: str, shareid: str, uk: str, sign: str, timestamp: str, fs_id: str) -> str:\n",
    "    url = 'https://terabox-dl.qtcloud.workers.dev/api/get-download'\n",
    "\n",
    "    body = {\n",
    "        'shareid': shareid,\n",
    "        'uk': uk,\n",
    "        'sign': sign,\n",
    "        'timestamp': timestamp,\n",
    "        'fs_id': fs_id,\n",
    "    }\n",
    "\n",
    "    headers = {\n",
    "        'User-Agent': 'Mozilla/5.0 (Macintosh; Intel Mac OS X 10_15_7) AppleWebKit/537.36 (KHTML, like Gecko) Chrome/117.0.0.0 Safari/537.36',\n",
    "    }\n",
    "\n",
    "    max_retries = 5  # Maximum number of attempts\n",
    "\n",
    "    for attempt in range(1, max_retries + 1):\n",
    "        try:\n",
    "            response = requests.post(url, json=body, headers=headers)\n",
    "            response.raise_for_status()\n",
    "            data = response.json()\n",
    "            if data['ok'] is False:\n",
    "                raise CustomError(data['message'])\n",
    "            pprint(data)\n",
    "            return data['downloadLink']\n",
    "\n",
    "        except requests.exceptions.RequestException as e:\n",
    "            print(f'Error making API request (attempt {attempt}/{max_retries})')\n",
    "\n",
    "        except CustomError as e:\n",
    "            print(f'{e} (attempt {attempt}/{max_retries})')\n",
    "\n",
    "        if attempt < max_retries:\n",
    "            time.sleep(2)\n",
    "        else:\n",
    "            print('Max retries reached. Giving up.')\n",
    "            return None\n",
    "\n",
    "def get_info(short_url, pwd):\n",
    "    url = 'https://terabox-dl.qtcloud.workers.dev/api/get-info'\n",
    "\n",
    "    params = {\n",
    "        'shorturl': short_url+'j',\n",
    "        'pwd': pwd\n",
    "    }\n",
    "\n",
    "    try:\n",
    "        response = requests.get(url, params=params)\n",
    "        response.raise_for_status()\n",
    "\n",
    "        data = response.json()\n",
    "        pprint(data)\n",
    "        return data\n",
    "\n",
    "    except requests.exceptions.RequestException as e:\n",
    "        print(f'Error making API request: {e}')\n",
    "        return None\n",
    "    \n",
    "class CustomError(Exception):\n",
    "    pass"
   ]
  },
  {
   "cell_type": "code",
   "execution_count": 2,
   "metadata": {},
   "outputs": [
    {
     "name": "stdout",
     "output_type": "stream",
     "text": [
      "{'message': 'Failed get data', 'ok': False}\n",
      "Failed get url download | Errno: 112 (attempt 1/5)\n",
      "Failed get url download | Errno: 112 (attempt 2/5)\n"
     ]
    },
    {
     "ename": "KeyboardInterrupt",
     "evalue": "",
     "output_type": "error",
     "traceback": [
      "\u001b[0;31m---------------------------------------------------------------------------\u001b[0m",
      "\u001b[0;31mKeyboardInterrupt\u001b[0m                         Traceback (most recent call last)",
      "\u001b[1;32m/Users/ivansaul/Documents/github/terabox_downloader/notes/terabox.ipynb Cell 2\u001b[0m line \u001b[0;36m1\n\u001b[1;32m     <a href='vscode-notebook-cell:/Users/ivansaul/Documents/github/terabox_downloader/notes/terabox.ipynb#W1sZmlsZQ%3D%3D?line=13'>14</a>\u001b[0m fs_id\u001b[39m=\u001b[39m\u001b[39m'\u001b[39m\u001b[39m244836085456441\u001b[39m\u001b[39m'\u001b[39m\n\u001b[1;32m     <a href='vscode-notebook-cell:/Users/ivansaul/Documents/github/terabox_downloader/notes/terabox.ipynb#W1sZmlsZQ%3D%3D?line=15'>16</a>\u001b[0m info\u001b[39m=\u001b[39m get_info(short_url\u001b[39m=\u001b[39mshort_url, pwd\u001b[39m=\u001b[39mpwd)\n\u001b[0;32m---> <a href='vscode-notebook-cell:/Users/ivansaul/Documents/github/terabox_downloader/notes/terabox.ipynb#W1sZmlsZQ%3D%3D?line=16'>17</a>\u001b[0m d_url \u001b[39m=\u001b[39m get_download(short_url\u001b[39m=\u001b[39;49mshort_url, pwd\u001b[39m=\u001b[39;49mpwd, shareid\u001b[39m=\u001b[39;49mshareid, uk\u001b[39m=\u001b[39;49muk, sign\u001b[39m=\u001b[39;49msign, timestamp\u001b[39m=\u001b[39;49mtimestamp, fs_id\u001b[39m=\u001b[39;49mfs_id)\n",
      "\u001b[1;32m/Users/ivansaul/Documents/github/terabox_downloader/notes/terabox.ipynb Cell 2\u001b[0m line \u001b[0;36m6\n\u001b[1;32m     <a href='vscode-notebook-cell:/Users/ivansaul/Documents/github/terabox_downloader/notes/terabox.ipynb#W1sZmlsZQ%3D%3D?line=62'>63</a>\u001b[0m     \u001b[39mprint\u001b[39m(\u001b[39mf\u001b[39m\u001b[39m'\u001b[39m\u001b[39m{\u001b[39;00me\u001b[39m}\u001b[39;00m\u001b[39m (attempt \u001b[39m\u001b[39m{\u001b[39;00mattempt\u001b[39m}\u001b[39;00m\u001b[39m/\u001b[39m\u001b[39m{\u001b[39;00mmax_retries\u001b[39m}\u001b[39;00m\u001b[39m)\u001b[39m\u001b[39m'\u001b[39m)\n\u001b[1;32m     <a href='vscode-notebook-cell:/Users/ivansaul/Documents/github/terabox_downloader/notes/terabox.ipynb#W1sZmlsZQ%3D%3D?line=64'>65</a>\u001b[0m \u001b[39mif\u001b[39;00m attempt \u001b[39m<\u001b[39m max_retries:\n\u001b[0;32m---> <a href='vscode-notebook-cell:/Users/ivansaul/Documents/github/terabox_downloader/notes/terabox.ipynb#W1sZmlsZQ%3D%3D?line=65'>66</a>\u001b[0m     time\u001b[39m.\u001b[39;49msleep(\u001b[39m2\u001b[39;49m)\n\u001b[1;32m     <a href='vscode-notebook-cell:/Users/ivansaul/Documents/github/terabox_downloader/notes/terabox.ipynb#W1sZmlsZQ%3D%3D?line=66'>67</a>\u001b[0m \u001b[39melse\u001b[39;00m:\n\u001b[1;32m     <a href='vscode-notebook-cell:/Users/ivansaul/Documents/github/terabox_downloader/notes/terabox.ipynb#W1sZmlsZQ%3D%3D?line=67'>68</a>\u001b[0m     \u001b[39mprint\u001b[39m(\u001b[39m'\u001b[39m\u001b[39mMax retries reached. Giving up.\u001b[39m\u001b[39m'\u001b[39m)\n",
      "\u001b[0;31mKeyboardInterrupt\u001b[0m: "
     ]
    }
   ],
   "source": [
    "if __name__ == '__main__':\n",
    "    #short_url = 'https://terabox.com/s/1poJGVNkbufY3l-vS8dmznw'\n",
    "    short_url = '1poJGVNkbufY3l-vS8dmznw'\n",
    "    pwd = ''\n",
    "\n",
    "    # https://terabox.com/s/18uBj2-2hkFOmPKeiL_aiEw Código de extracción:23fw\n",
    "    # short_url = '18uBj2-2hkFOmPKeiL_aiEw'\n",
    "    # pwd = '23fw'\n",
    "\n",
    "    shareid='3832657780'\n",
    "    uk='4402319809216'\n",
    "    sign='e0db18cd54c5996904c2a10a9fdc8b56ac15925c'\n",
    "    timestamp='1696214529'\n",
    "    fs_id='244836085456441'\n",
    "\n",
    "    info= get_info(short_url=short_url, pwd=pwd)\n",
    "    d_url = get_download(short_url=short_url, pwd=pwd, shareid=shareid, uk=uk, sign=sign, timestamp=timestamp, fs_id=fs_id)"
   ]
  },
  {
   "cell_type": "code",
   "execution_count": null,
   "metadata": {},
   "outputs": [
    {
     "name": "stdout",
     "output_type": "stream",
     "text": [
      "https://d0.terabox.com/file/7e1503866f2872ce151643b98f6f7b95?bkt=en-2fb6763f1c8fb1012bc56db416298f9c02eeaf0a9cef5254e9a7a6b60bbbd584e987586e6c35fde2&xcode=b425f6fd51cb8600fac5dade2ac59c0e47f8a607a38d7a3e8769b5378c1cd383e01d8723eb683bf3e695525b6c993db1&fid=4402319809216-250528-244836085456441&time=1696215045&sign=FDTAXUGERQlBHSKfa-DCb740ccc5511e5e8fedcff06b081203-kfzlZNySvQ%2FPnRD36v%2FihQ4vCY8%3D&signbak=kfzlZNySvQ%2FPnRD36v%2FihQ4vCY8%3D&to=d0&size=453202652&sta_dx=453202652&sta_cs=0&sta_ft=rar&sta_ct=5&sta_mt=5&fm2=MH%2Ctky%2CAnywhere%2C%2C%2Cany&region=tky&ctime=1687097765&mtime=1690002687&resv0=-1&resv1=0&resv2=rlim&resv3=5&resv4=453202652&vuk=4402336688533&iv=2&htype=&randtype=&newver=1&newfm=1&secfm=1&flow_ver=3&pkey=en-af66f2ae7777b24515eeb887a2be077d7fcc58e9f0c1c743fbfde8ad250b27726f7ff1e9a03c987d&expires=1696243845&rt=sh&r=244015698&sh=1&vbdid=-&fin=Curso+MVC.rar&fn=Curso+MVC.rar&rtype=1&dp-logid=8671157691186348138&dp-callid=0.1&hps=1&tsl=0&csl=0&fsl=-1&csign=Qd%2BPN9wnKVnoY6jABiQQM2ucwek%3D&so=0&ut=1&uter=4&serv=0&uc=1203817640&ti=e6e2f9d25109af0ea6a78330dcea78c2af1f2f2f28c99976&adg=&reqlabel=250528_f_7ceb039cbf58cd9db701e933677032ea_-1_82de527c0229148eacb139a258954fb4&ccn=US&by=themis&Expires=1696243845&Signature=ODqJVmGnCgF8lwvLRHcX04MCt4qaGpmj6ubYqtmFUobXe7Ne7QSDBx67~uVfaetTzlPzucoa-X4cA86UuMeXZHadiQMrVeudgHfJOzr0EhRY2xMvD0K2s-XbIzhqk4kq2mE~hwXvtB4-sbdbLmbZSbbiXSVbVnyeynZnwlMNJ3n3bSlb4LeSflPpmrajS7qvn3hkCJoC6JaqHmiZbhJ2-qkYfT4iTP2s5VVblOSASD5BQupBOp6HUFVyNxboSzvSxYU3DcU16EMIDGSNLHR4eGelIVybhMH0A4CPaEy38d6sq9qTjAsrCTBGsASs~xDDvJrZa8D1SsavBev04NC83w__&Key-Pair-Id=K2UF6UUQLSZ84\n"
     ]
    }
   ],
   "source": [
    "print(d_url)"
   ]
  }
 ],
 "metadata": {
  "kernelspec": {
   "display_name": "venv",
   "language": "python",
   "name": "python3"
  },
  "language_info": {
   "codemirror_mode": {
    "name": "ipython",
    "version": 3
   },
   "file_extension": ".py",
   "mimetype": "text/x-python",
   "name": "python",
   "nbconvert_exporter": "python",
   "pygments_lexer": "ipython3",
   "version": "3.11.5"
  },
  "orig_nbformat": 4
 },
 "nbformat": 4,
 "nbformat_minor": 2
}
