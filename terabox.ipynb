{
 "cells": [
  {
   "cell_type": "code",
   "execution_count": 32,
   "metadata": {},
   "outputs": [],
   "source": [
    "import requests\n",
    "import time\n",
    "from pprint import pprint\n",
    "\n",
    "def get_download(short_url: str, pwd: str, shareid: str, uk: str, sign: str, timestamp: str, fs_id: str) -> str:\n",
    "    url = 'https://terabox-dl.qtcloud.workers.dev/api/get-download'\n",
    "\n",
    "    body = {\n",
    "        'shareid': shareid,\n",
    "        'uk': uk,\n",
    "        'sign': sign,\n",
    "        'timestamp': timestamp,\n",
    "        'fs_id': fs_id,\n",
    "    }\n",
    "\n",
    "    headers = {\n",
    "        'User-Agent': 'Mozilla/5.0 (Macintosh; Intel Mac OS X 10_15_7) AppleWebKit/537.36 (KHTML, like Gecko) Chrome/117.0.0.0 Safari/537.36',\n",
    "    }\n",
    "\n",
    "    try:\n",
    "        response = requests.post(url, json=body, headers=headers)\n",
    "        response.raise_for_status()\n",
    "\n",
    "        data = response.json()\n",
    "        print(data)\n",
    "        return data\n",
    "\n",
    "    except requests.exceptions.RequestException as e:\n",
    "        print(f'Error making API request: {e}')\n",
    "        return None\n",
    "\n",
    "def get_download(short_url: str, pwd: str, shareid: str, uk: str, sign: str, timestamp: str, fs_id: str) -> str:\n",
    "    url = 'https://terabox-dl.qtcloud.workers.dev/api/get-download'\n",
    "\n",
    "    body = {\n",
    "        'shareid': shareid,\n",
    "        'uk': uk,\n",
    "        'sign': sign,\n",
    "        'timestamp': timestamp,\n",
    "        'fs_id': fs_id,\n",
    "    }\n",
    "\n",
    "    headers = {\n",
    "        'User-Agent': 'Mozilla/5.0 (Macintosh; Intel Mac OS X 10_15_7) AppleWebKit/537.36 (KHTML, like Gecko) Chrome/117.0.0.0 Safari/537.36',\n",
    "    }\n",
    "\n",
    "    max_retries = 5  # Maximum number of attempts\n",
    "\n",
    "    for attempt in range(1, max_retries + 1):\n",
    "        try:\n",
    "            response = requests.post(url, json=body, headers=headers)\n",
    "            response.raise_for_status()\n",
    "            data = response.json()\n",
    "            if data['ok'] is False:\n",
    "                raise CustomError(data['message'])\n",
    "            pprint(data)\n",
    "            return data['downloadLink']\n",
    "\n",
    "        except requests.exceptions.RequestException as e:\n",
    "            print(f'Error making API request (attempt {attempt}/{max_retries})')\n",
    "\n",
    "        except CustomError as e:\n",
    "            print(f'{e} (attempt {attempt}/{max_retries})')\n",
    "\n",
    "        if attempt < max_retries:\n",
    "            time.sleep(2)\n",
    "        else:\n",
    "            print('Max retries reached. Giving up.')\n",
    "            return None\n",
    "\n",
    "def get_info(short_url, pwd):\n",
    "    url = 'https://terabox-dl.qtcloud.workers.dev/api/get-info'\n",
    "\n",
    "    params = {\n",
    "        'shorturl': short_url+'j',\n",
    "        'pwd': pwd\n",
    "    }\n",
    "\n",
    "    try:\n",
    "        response = requests.get(url, params=params)\n",
    "        response.raise_for_status()\n",
    "\n",
    "        data = response.json()\n",
    "        pprint(data)\n",
    "        return data\n",
    "\n",
    "    except requests.exceptions.RequestException as e:\n",
    "        print(f'Error making API request: {e}')\n",
    "        return None\n",
    "    \n",
    "class CustomError(Exception):\n",
    "    pass"
   ]
  },
  {
   "cell_type": "code",
   "execution_count": 33,
   "metadata": {},
   "outputs": [
    {
     "name": "stdout",
     "output_type": "stream",
     "text": [
      "{'message': 'Failed get data', 'ok': False}\n",
      "{'downloadLink': 'https://d0.terabox.com/file/7e1503866f2872ce151643b98f6f7b95?bkt=en-2fb6763f1c8fb1012bc56db416298f9c02eeaf0a9cef5254e9a7a6b60bbbd584e987586e6c35fde2&xcode=09ceb36707f86b812adfadd56aa877a047f8a607a38d7a3eef4f912d28b6283f4332a22db9463dee670008016dbe1042&fid=4402319809216-250528-244836085456441&time=1696215162&sign=FDTAXUGERQlBHSKfa-DCb740ccc5511e5e8fedcff06b081203-1QPpHsgel%2FiN98gNzGKjFDLLawE%3D&signbak=1QPpHsgel%2FiN98gNzGKjFDLLawE%3D&to=d0&size=453202652&sta_dx=453202652&sta_cs=0&sta_ft=rar&sta_ct=5&sta_mt=5&fm2=MH%2Ctky%2CAnywhere%2C%2C%2Cany&region=tky&ctime=1687097765&mtime=1690002687&resv0=-1&resv1=0&resv2=rlim&resv3=5&resv4=453202652&vuk=4402336688533&iv=2&htype=&randtype=&newver=1&newfm=1&secfm=1&flow_ver=3&pkey=en-af66f2ae7777b24515eeb887a2be077d7fcc58e9f0c1c743fbfde8ad250b27726f7ff1e9a03c987d&expires=1696243962&rt=sh&r=547321997&sh=1&vbdid=-&fin=Curso+MVC.rar&fn=Curso+MVC.rar&rtype=1&dp-logid=8671189107979670811&dp-callid=0.1&hps=1&tsl=0&csl=0&fsl=-1&csign=Qd%2BPN9wnKVnoY6jABiQQM2ucwek%3D&so=0&ut=1&uter=4&serv=0&uc=1203817640&ti=14a3010384c1ca3c6c7ac39597f6fca8d6c5be3eb282bafa60f1fd2882e1895f&adg=&reqlabel=250528_f_7ceb039cbf58cd9db701e933677032ea_-1_82de527c0229148eacb139a258954fb4&ccn=US&by=themis&Expires=1696243962&Signature=mNldKVLjf3~CizPSrKqLYPHjcjy7GYt0cTcBdpTK4T60xqcM10Gd~VLfb4EZmTusO1IqZXiYvyPiSTYpy8gLC4kvYxUzGHPvlaEUknd4-mTd9U97zAzGtjQyOy3UN54TFHGZ8K~nVABvu3cIy6cVLMBHbIODzppUxlXWdMckwb~95FC9tOww9eFfWN0QPJb02vZECIXocad-3TIjs3xyhqIt~Sgi5~zwJW995aNn0xn1n83h02zelzKLz69oCScnXqPUJKrPt6BGOs5ImXAElD8DlEIDza7kDfz6tVkKq4RWrs71Szgb6LvDDpg983MLAK0010sGI4HvaVexTUB~Ng__&Key-Pair-Id=K2UF6UUQLSZ84',\n",
      " 'ok': True}\n"
     ]
    }
   ],
   "source": [
    "if __name__ == '__main__':\n",
    "    #short_url = 'https://terabox.com/s/1poJGVNkbufY3l-vS8dmznw'\n",
    "    short_url = '1poJGVNkbufY3l-vS8dmznw'\n",
    "    pwd = ''\n",
    "\n",
    "    # https://terabox.com/s/18uBj2-2hkFOmPKeiL_aiEw Código de extracción:23fw\n",
    "    # short_url = '18uBj2-2hkFOmPKeiL_aiEw'\n",
    "    # pwd = '23fw'\n",
    "\n",
    "    shareid='3832657780'\n",
    "    uk='4402319809216'\n",
    "    sign='e0db18cd54c5996904c2a10a9fdc8b56ac15925c'\n",
    "    timestamp='1696214529'\n",
    "    fs_id='244836085456441'\n",
    "\n",
    "    info= get_info(short_url=short_url, pwd=pwd)\n",
    "    d_url = get_download(short_url=short_url, pwd=pwd, shareid=shareid, uk=uk, sign=sign, timestamp=timestamp, fs_id=fs_id)"
   ]
  },
  {
   "cell_type": "code",
   "execution_count": 31,
   "metadata": {},
   "outputs": [
    {
     "name": "stdout",
     "output_type": "stream",
     "text": [
      "https://d0.terabox.com/file/7e1503866f2872ce151643b98f6f7b95?bkt=en-2fb6763f1c8fb1012bc56db416298f9c02eeaf0a9cef5254e9a7a6b60bbbd584e987586e6c35fde2&xcode=b425f6fd51cb8600fac5dade2ac59c0e47f8a607a38d7a3e8769b5378c1cd383e01d8723eb683bf3e695525b6c993db1&fid=4402319809216-250528-244836085456441&time=1696215045&sign=FDTAXUGERQlBHSKfa-DCb740ccc5511e5e8fedcff06b081203-kfzlZNySvQ%2FPnRD36v%2FihQ4vCY8%3D&signbak=kfzlZNySvQ%2FPnRD36v%2FihQ4vCY8%3D&to=d0&size=453202652&sta_dx=453202652&sta_cs=0&sta_ft=rar&sta_ct=5&sta_mt=5&fm2=MH%2Ctky%2CAnywhere%2C%2C%2Cany&region=tky&ctime=1687097765&mtime=1690002687&resv0=-1&resv1=0&resv2=rlim&resv3=5&resv4=453202652&vuk=4402336688533&iv=2&htype=&randtype=&newver=1&newfm=1&secfm=1&flow_ver=3&pkey=en-af66f2ae7777b24515eeb887a2be077d7fcc58e9f0c1c743fbfde8ad250b27726f7ff1e9a03c987d&expires=1696243845&rt=sh&r=244015698&sh=1&vbdid=-&fin=Curso+MVC.rar&fn=Curso+MVC.rar&rtype=1&dp-logid=8671157691186348138&dp-callid=0.1&hps=1&tsl=0&csl=0&fsl=-1&csign=Qd%2BPN9wnKVnoY6jABiQQM2ucwek%3D&so=0&ut=1&uter=4&serv=0&uc=1203817640&ti=e6e2f9d25109af0ea6a78330dcea78c2af1f2f2f28c99976&adg=&reqlabel=250528_f_7ceb039cbf58cd9db701e933677032ea_-1_82de527c0229148eacb139a258954fb4&ccn=US&by=themis&Expires=1696243845&Signature=ODqJVmGnCgF8lwvLRHcX04MCt4qaGpmj6ubYqtmFUobXe7Ne7QSDBx67~uVfaetTzlPzucoa-X4cA86UuMeXZHadiQMrVeudgHfJOzr0EhRY2xMvD0K2s-XbIzhqk4kq2mE~hwXvtB4-sbdbLmbZSbbiXSVbVnyeynZnwlMNJ3n3bSlb4LeSflPpmrajS7qvn3hkCJoC6JaqHmiZbhJ2-qkYfT4iTP2s5VVblOSASD5BQupBOp6HUFVyNxboSzvSxYU3DcU16EMIDGSNLHR4eGelIVybhMH0A4CPaEy38d6sq9qTjAsrCTBGsASs~xDDvJrZa8D1SsavBev04NC83w__&Key-Pair-Id=K2UF6UUQLSZ84\n"
     ]
    }
   ],
   "source": [
    "print(d_url)"
   ]
  }
 ],
 "metadata": {
  "kernelspec": {
   "display_name": "venv",
   "language": "python",
   "name": "python3"
  },
  "language_info": {
   "codemirror_mode": {
    "name": "ipython",
    "version": 3
   },
   "file_extension": ".py",
   "mimetype": "text/x-python",
   "name": "python",
   "nbconvert_exporter": "python",
   "pygments_lexer": "ipython3",
   "version": "3.11.5"
  },
  "orig_nbformat": 4
 },
 "nbformat": 4,
 "nbformat_minor": 2
}
